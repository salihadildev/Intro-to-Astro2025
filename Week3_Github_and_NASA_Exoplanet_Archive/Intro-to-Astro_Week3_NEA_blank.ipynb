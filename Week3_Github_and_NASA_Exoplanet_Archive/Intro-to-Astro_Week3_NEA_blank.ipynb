{
 "cells": [
  {
   "cell_type": "markdown",
   "id": "929475a0",
   "metadata": {},
   "source": [
    "# Intro-to-Astro Week 3\n",
    "## NASA Exoplanet Archive Assignment\n",
    "\n",
    "This week, we learned about exoplanet detection methods and explored the NASA Exoplanet Archive together. In this assignment, you will practice using Exoplanet Archive by downloading data and creating some informative plots. \n",
    "\n",
    "### Part 1: Finding your data\n",
    "Launch the NASA Exoplanet Archive at [this link](https://exoplanetarchive.ipac.caltech.edu/). Before we get into data manipulation with Python, let's check out some of the utility of the online portal. Navigate to the \"Planetary Systems Composite Data\" table.\n",
    "\n",
    "List the first 3 authors who discovered TOI-6324 b:\n",
    "- first\n",
    "- second\n",
    "- third\n"
   ]
  },
  {
   "cell_type": "markdown",
   "id": "9cd9a1cf",
   "metadata": {},
   "source": [
    "How many systems list position information (RA, Dec) from sources that are not the TICv8 (TESS Input Catalog)?\n",
    "- answer\n",
    "\n",
    "Explore one of these position reference papers. What was the purpose of their survey?\n",
    "- list the paper and your answer\n",
    "\n",
    "\n",
    "*Hints: Play around with the different columns of data available under 'Select Columns'. You can type in the column headers to search for specific values in the table.*"
   ]
  },
  {
   "cell_type": "markdown",
   "id": "444e28bf",
   "metadata": {},
   "source": [
    "Now that we have poked around online, let's download the data and plot it. Reset the table by refreshing the page, so your filters and selections are removed. Select \"Download Table\" and save to your data directory. This CSV file holds information on all the currently confirmed exoplanets. Follow the code prompts below to read in this data file."
   ]
  },
  {
   "cell_type": "code",
   "execution_count": null,
   "id": "d04e9117",
   "metadata": {},
   "outputs": [],
   "source": [
    "# To start, let's import the necessary libraries for this assignment.\n",
    "\n",
    "import os                           # for file and directory operations\n",
    "import pandas as pd                 # for data manipulation and analysis\n",
    "import matplotlib.pyplot as plt     # for plotting data\n",
    "import numpy as np                  # for numerical operations\n",
    "\n",
    "# to display plots inline in Jupyter Notebook, use this 'magic command':\n",
    "%matplotlib inline"
   ]
  },
  {
   "cell_type": "code",
   "execution_count": null,
   "id": "fc1c15c7",
   "metadata": {},
   "outputs": [],
   "source": [
    "# Locate the data file you downloaded from the NASA Exoplanet Archive and read it into a DataFrame\n",
    "\n",
    "dir = ''  # replace with your actual data directory\n",
    "file = 'PSCompPars_2025.07.14_19.08.24.csv' # replace with your actual data file name\n",
    "path = os.path.join(dir, file)\n",
    "\n",
    "# Read the CSV file into a DataFrame\n",
    "df = pd.read_csv(path, comment='#')\n",
    "df # let's see what our data table looks like"
   ]
  },
  {
   "cell_type": "code",
   "execution_count": null,
   "id": "ad963d80",
   "metadata": {},
   "outputs": [],
   "source": [
    "# Let's see what columns are available in the DataFrame\n",
    "print(df.columns) # Note: descriptions of the columns can be found in the beginning of the CSV file"
   ]
  },
  {
   "cell_type": "markdown",
   "id": "5204ae1e",
   "metadata": {},
   "source": [
    "In the following code cells, create and print variables that will provide some information about our data table, such as the number of planets in the table, the discovery facilities, etc."
   ]
  },
  {
   "cell_type": "code",
   "execution_count": null,
   "id": "7743475d",
   "metadata": {},
   "outputs": [],
   "source": [
    "# How many planets are in the table?\n",
    "# code here"
   ]
  },
  {
   "cell_type": "code",
   "execution_count": null,
   "id": "962fcb74",
   "metadata": {},
   "outputs": [],
   "source": [
    "# How many discovery facilities are listed in the table?\n",
    "# code here"
   ]
  },
  {
   "cell_type": "markdown",
   "id": "0d0fc4e2",
   "metadata": {},
   "source": [
    "### Part 2: Plotting your data\n",
    "\n",
    "Now that we have taken a look at the data table, let's start using it! We can recreate one of the plots we looked at together on Exoplanet Archive as a quick example."
   ]
  },
  {
   "cell_type": "code",
   "execution_count": null,
   "id": "45d54c7b",
   "metadata": {},
   "outputs": [],
   "source": [
    "# create a scatter plot of Period (Days) vs Mass (Jupiter Masses) \n",
    "\n",
    "# create a figure object and set its size\n",
    "plt.figure(figsize=(10, 6))\n",
    "\n",
    "# plot the relevant columns from the DataFrame. \n",
    "# You can adjust different parameters like alpha (transparency), color, edgecolor, marker, etc.\n",
    "plt.scatter(df['pl_orbper'], df['pl_bmassj'], alpha=0.5, color='silver', edgecolor='k', marker='.')\n",
    "\n",
    "# set the x and y scales to logarithmic so that we can see the data better\n",
    "plt.xscale('log')\n",
    "plt.yscale('log')\n",
    "\n",
    "# label your axes\n",
    "plt.xlabel('Period (Days)', fontsize=18)\n",
    "plt.ylabel('Mass (Jupiter Masses)', fontsize=18)\n"
   ]
  },
  {
   "cell_type": "markdown",
   "id": "ed999c9b",
   "metadata": {},
   "source": [
    "The above plot shows us the distribution of planet masses and periods like the one on Exoplanet Archive. However, we can take it a step further and distinguish the points according to their discovery method, like the plot online."
   ]
  },
  {
   "cell_type": "code",
   "execution_count": null,
   "id": "58b0b3fe",
   "metadata": {},
   "outputs": [],
   "source": [
    "# Taking the same setup as above, but now we will color the points by discovery method\n",
    "plt.figure(figsize=(10, 6))\n",
    "plt.xscale('log')\n",
    "plt.yscale('log')\n",
    "plt.xlabel('Period (Days)', fontsize=18)\n",
    "plt.ylabel('Mass (Jupiter Masses)', fontsize=18)\n",
    "\n",
    "# convert discovery methods to numeric codes for coloring, and hold labels\n",
    "discmethods = df['discoverymethod']\n",
    "dm_num = pd.factorize(discmethods)[0]\n",
    "\n",
    "# use the 'c' parameter to color the points by discovery method\n",
    "cmap = plt.cm.tab10 # choose a colormap\n",
    "colors = cmap(dm_num / dm_num.max())  # normalize the numeric codes for color mapping\n",
    "plt.scatter(df['pl_orbper'], df['pl_bmassj'], c=colors, alpha=0.5, marker='.') #plot data\n",
    "\n",
    "# add a legend to indicate which color corresponds to which discovery method\n",
    "from matplotlib.patches import Patch\n",
    "legend_elements = [Patch(facecolor=cmap(i/dm_num.max()), label=label) for i, label in enumerate(discmethods.unique())]\n",
    "plt.legend(handles=legend_elements, title='Discovery Method', loc='lower right')"
   ]
  },
  {
   "cell_type": "markdown",
   "id": "c09237bf",
   "metadata": {},
   "source": [
    "Now that you've seen an example, recreate another plot that was already generated on the NASA Exoplanet archive."
   ]
  },
  {
   "cell_type": "code",
   "execution_count": null,
   "id": "d9452c29",
   "metadata": {},
   "outputs": [],
   "source": [
    "# code here"
   ]
  },
  {
   "cell_type": "markdown",
   "id": "5dc8cca8",
   "metadata": {},
   "source": [
    "### Part 3: Filtering your data\n",
    "\n",
    "We saw during the live session that we can filter the data table to include only a subset of planets that we're particularly interested in. Since we downloaded all systems already, we can also filter them here. Let's explore the different kinds of planets that have been discovered by TESS and Kepler, the two main transiting planet missions."
   ]
  },
  {
   "cell_type": "code",
   "execution_count": null,
   "id": "499e34dd",
   "metadata": {},
   "outputs": [],
   "source": [
    "# create Boolean masks to filter the DataFrame for planets discovered by TESS and by Kepler\n",
    "tess_mask = df['disc_facility'].str.contains('TESS', case=False, na=False)\n",
    "kepler_mask = df['disc_facility'].str.contains('Kepler', case=False, na=False)\n",
    "\n",
    "# filter the DataFrame using the masks\n",
    "tess_planets = df[tess_mask]\n",
    "kepler_planets = df[kepler_mask]\n",
    "\n",
    "# How many planets were discovered by TESS and Kepler?\n",
    "# code here\n",
    "\n"
   ]
  },
  {
   "cell_type": "markdown",
   "id": "39e4eb4c",
   "metadata": {},
   "source": [
    "Let's compare the different planet populations discovered by Kepler and by TESS. "
   ]
  },
  {
   "cell_type": "code",
   "execution_count": null,
   "id": "374e99a4",
   "metadata": {},
   "outputs": [],
   "source": [
    "# create a histogram of planet radii for TESS and Kepler planets in Earth radii\n",
    "plt.figure(figsize=(10, 5))\n",
    "\n",
    "# plot the data\n",
    "plt.hist(tess_planets['pl_rade'], bins=30, alpha=0.5, label='TESS', color='red', edgecolor='black')\n",
    "plt.hist(kepler_planets['pl_rade'], bins=30, alpha=0.5, label='Kepler', color='blue', edgecolor='black')\n",
    "\n",
    "plt.xlabel('Planet Radius (Earth Radii)',fontsize=18)\n",
    "plt.ylabel('Number of Planets',fontsize=18)\n",
    "\n",
    "plt.legend()"
   ]
  },
  {
   "cell_type": "markdown",
   "id": "1a670e05",
   "metadata": {},
   "source": [
    "Let's improve this histogram to create a more informative visual comparison of the two distributions. We can assign common bins and set the axes to logarithmic scales, for example."
   ]
  },
  {
   "cell_type": "code",
   "execution_count": null,
   "id": "24e44605",
   "metadata": {},
   "outputs": [],
   "source": [
    "plt.figure(figsize=(10, 5))\n",
    "\n",
    "# define informative bins for the histogram\n",
    "bins = np.logspace(np.log10(0.1), np.log10(20), 80) \n",
    "\n",
    "# finish on your own"
   ]
  },
  {
   "cell_type": "markdown",
   "id": "cf14e10e",
   "metadata": {},
   "source": [
    "What are the most notable differences between the two distributions? What are the similarities? Try re-plotting a 'zoomed-in' section of the above histogram to better view the 'radius valley'."
   ]
  },
  {
   "cell_type": "code",
   "execution_count": null,
   "id": "b0c15159",
   "metadata": {},
   "outputs": [],
   "source": [
    "# code here"
   ]
  },
  {
   "cell_type": "markdown",
   "id": "95da91c9",
   "metadata": {},
   "source": [
    "Use different filters and functions on the data table to answer the following questions:\n",
    "- How many planets were discovered using the Radial Velocity method?\n",
    "- How far away is the furthest confirmed exoplanet? What is its name?\n",
    "- How many planets are smaller than the Earth?"
   ]
  },
  {
   "cell_type": "code",
   "execution_count": null,
   "id": "8523640c",
   "metadata": {},
   "outputs": [],
   "source": [
    "# create a mask for planets discovered by the Radial Velocity method\n",
    "\n",
    "\n",
    "\n",
    "\n",
    "\n",
    "# find the furthest confirmed exoplanet\n",
    "\n",
    "\n",
    "\n",
    "\n",
    "\n",
    "# count the number of planets smaller than Earth\n",
    "\n",
    "\n",
    "\n"
   ]
  },
  {
   "cell_type": "markdown",
   "id": "262198c8",
   "metadata": {},
   "source": [
    "Now that we've had some practice, try out the following exercise. Select only planets that have mass measurements using the same Boolean mask method we did earlier. Then, select a subset of the planets with mass mesurements that also have planet radius measurements (i.e., planet radius and mass columns are not empty/NaN). "
   ]
  },
  {
   "cell_type": "code",
   "execution_count": null,
   "id": "a9263a13",
   "metadata": {},
   "outputs": [],
   "source": [
    "# create a mask for planets with mass measurements\n",
    "mass_mask = df['pl_bmasse'].notna()\n",
    "selected_planets = df[mass_mask]\n",
    "\n",
    "# create a mask for planets that also have planet radius measurements (i.e., planet radius column is not empty/NaN!)\n",
    "\n",
    "\n",
    "# how many planets were discovered by the Radial Velocity method?\n",
    "\n",
    "\n",
    "# how many of those have planet radius measurements?\n",
    "\n"
   ]
  },
  {
   "cell_type": "markdown",
   "id": "b4eaf4ff",
   "metadata": {},
   "source": [
    "Now that we have our filtered data, let's make a plot that informs us about this subset of planets. Make a Planet Density (g/cm^3) vs. Planet Radius (Earth Radius) plot. The unit conversions have been coded for you using the astropy package."
   ]
  },
  {
   "cell_type": "code",
   "execution_count": null,
   "id": "827d03d4",
   "metadata": {},
   "outputs": [],
   "source": [
    "import astropy.units as u\n",
    "\n",
    "# convert planet radius from Earth radii to centimeters\n",
    "rad_cm = selected_planets['pl_rade'] * u.R_earth.to(u.cm)\n",
    "\n",
    "# convert planet mass from Earth masses to g\n",
    "mass_g = selected_planets['pl_bmasse'] * u.M_earth.to(u.g)"
   ]
  },
  {
   "cell_type": "code",
   "execution_count": null,
   "id": "5fc7d5d1",
   "metadata": {},
   "outputs": [],
   "source": [
    "# calculate density in g/cm^3\n",
    "\n",
    "\n",
    "# create a scatter plot of Density (g/cm^3) vs Planet Radius (Earth Radii)\n"
   ]
  },
  {
   "cell_type": "markdown",
   "id": "f79a8975",
   "metadata": {},
   "source": [
    "### Part 4: Choose your own adventure\n",
    "\n",
    "Using the various things you've learned throughout this tutorial and assignment, create a plot to visualize the correlation between any parameters of your choosing. Choose a specific and interesting subset of planets (e.g., planets discovered via the radial velocity method, nearby planets, etc.). Write down some interesting things you learned from your plot. "
   ]
  },
  {
   "cell_type": "code",
   "execution_count": null,
   "id": "d1fa04ba",
   "metadata": {},
   "outputs": [],
   "source": [
    "# code here"
   ]
  },
  {
   "cell_type": "code",
   "execution_count": null,
   "id": "45b21b6b",
   "metadata": {},
   "outputs": [],
   "source": []
  }
 ],
 "metadata": {
  "kernelspec": {
   "display_name": "base",
   "language": "python",
   "name": "python3"
  },
  "language_info": {
   "codemirror_mode": {
    "name": "ipython",
    "version": 3
   },
   "file_extension": ".py",
   "mimetype": "text/x-python",
   "name": "python",
   "nbconvert_exporter": "python",
   "pygments_lexer": "ipython3",
   "version": "3.11.7"
  }
 },
 "nbformat": 4,
 "nbformat_minor": 5
}
