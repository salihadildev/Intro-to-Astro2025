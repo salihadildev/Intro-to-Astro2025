{
 "cells": [
  {
   "cell_type": "markdown",
   "metadata": {
    "slideshow": {
     "slide_type": "slide"
    }
   },
   "source": [
    "# Unix and Git\n",
    "## Intro-to-Astro 2022\n",
    "\n",
    "### Joey Murphy (UCSC)  and Chetan\n",
    "### June 13, 2022"
   ]
  },
  {
   "cell_type": "markdown",
   "metadata": {
    "slideshow": {
     "slide_type": "slide"
    }
   },
   "source": [
    "# Unix\n",
    "## The first portable operating system (OS)\n",
    "\n",
    "- Your machine's OS facilitates the hardware-software interface\n",
    "- Unix was originally released in 1971\n",
    "- Written entirely in the C programming language (making it 1. fast and 2. portable i.e. able to run on multiple platforms)\n",
    "- Today there are plenty of \"Unix-like\" alternatives e.g. Linux"
   ]
  },
  {
   "cell_type": "markdown",
   "metadata": {
    "slideshow": {
     "slide_type": "subslide"
    }
   },
   "source": [
    "# Interacting with Unix\n",
    "\n",
    "- Mac OS (for example) relies on the Unix kernel at its heart\n",
    "- The client (i.e. you and I) interact with Unix via a **shell**\n",
    "- Mac OS uses ``bash`` (more recent releases use ``zsh``)\n",
    "- Mac OS' ``Terminal`` provides a command-line interface for passing commands to Unix\n",
    "    - (In this Jupyter notebook I can also use the magic command ``%%bash`` to make a Unix-like cell)"
   ]
  },
  {
   "cell_type": "code",
   "execution_count": 1,
   "metadata": {
    "slideshow": {
     "slide_type": "fragment"
    }
   },
   "outputs": [
    {
     "name": "stdout",
     "output_type": "stream",
     "text": [
      "/Users/josephmurphy/Documents/Intro-to-Astro-2021-local/week1\n"
     ]
    }
   ],
   "source": [
    "%%bash\n",
    "pwd # Print the path of the working directory"
   ]
  },
  {
   "cell_type": "code",
   "execution_count": 2,
   "metadata": {
    "slideshow": {
     "slide_type": "fragment"
    }
   },
   "outputs": [
    {
     "name": "stdout",
     "output_type": "stream",
     "text": [
      "images\n",
      "unix_git_gdrive_slides.ipynb\n",
      "unix_git_gdrive_slides.slides.html\n"
     ]
    }
   ],
   "source": [
    "%%bash\n",
    "ls # List the contents of the current directory"
   ]
  },
  {
   "cell_type": "markdown",
   "metadata": {
    "slideshow": {
     "slide_type": "subslide"
    }
   },
   "source": [
    "![title](images/screenshot_01.png)"
   ]
  },
  {
   "cell_type": "markdown",
   "metadata": {
    "slideshow": {
     "slide_type": "subslide"
    }
   },
   "source": [
    "# Essential Unix commands\n",
    "\n",
    "#### Where am I and what's here?\n",
    "\n",
    "``pwd``: prints path of working directory\n",
    "\n",
    "``ls``: list the contents of a directory \n",
    "\n",
    "&nbsp;&nbsp;&nbsp;&nbsp;``-a`` lists hidden files, too\n",
    "    \n",
    "&nbsp;&nbsp;&nbsp;&nbsp;``-l`` displays in long format. Flags can also be combined! e.g. ``ls -al``"
   ]
  },
  {
   "cell_type": "markdown",
   "metadata": {
    "slideshow": {
     "slide_type": "subslide"
    }
   },
   "source": [
    "# Essential Unix commands\n",
    "\n",
    "#### What's going on?\n",
    "\n",
    "``man [command]``: Display the manual page for [command]\n",
    "\n",
    "#### How do I move around?\n",
    "\n",
    "``cd [path]``: change directory \n",
    "\n",
    "&nbsp;&nbsp;&nbsp;&nbsp;e.g. ``cd data`` or ``cd documents/research``\n",
    "\n",
    "&nbsp;&nbsp;&nbsp;&nbsp;Use ``cd ..`` to go backwards"
   ]
  },
  {
   "cell_type": "markdown",
   "metadata": {
    "slideshow": {
     "slide_type": "subslide"
    }
   },
   "source": [
    "# Essential Unix commands\n",
    "\n",
    "#### How do I create/copy/move/delete files?\n",
    "\n",
    "``touch [file]``: creates [file]\n",
    "\n",
    "``mkdir [directory]``: creates a new directory\n",
    "\n",
    "``cp [source file] [target file]``: make a copy of [source file] named [target file] in the working directory\n",
    "\n",
    "``mv [file] [destination]``: move [file] from the working directory to the location specified by the [destination] path\n",
    "\n",
    "``rm [file]``: delete [file]\n",
    "\n",
    "&nbsp;&nbsp;&nbsp;&nbsp;Be careful with ``rm``! Especially if you're thinking about using the ``-f`` (force) or ``-r`` (recursive) options"
   ]
  },
  {
   "cell_type": "markdown",
   "metadata": {
    "slideshow": {
     "slide_type": "subslide"
    }
   },
   "source": [
    "# Bonus Unix commands\n",
    "\n",
    "#### How do I search for keywords?\n",
    "\n",
    "``grep [string] [file]``: search for and return all lines containing [string] in [file]\n",
    "\n",
    "&nbsp;&nbsp;&nbsp;&nbsp;``grep`` can be very useful when combined with the ``|`` (pipe) operator!\n",
    "\n",
    "&nbsp;&nbsp;&nbsp;&nbsp;e.g. ``ls | grep foo``: look for and return all file or sub-directory names in the working directory that contain \"foo\"\n",
    "\n",
    "&nbsp;&nbsp;&nbsp;&nbsp;^can be very useful when checking if you've already installed a Python package e.g. ``pip freeze | grep numpy`` or ``conda list | grep numpy``"
   ]
  },
  {
   "cell_type": "markdown",
   "metadata": {
    "slideshow": {
     "slide_type": "subslide"
    }
   },
   "source": [
    "# Bonus Unix commands\n",
    "\n",
    "#### Write to/inspect files from the command line\n",
    "\n",
    "``cat > [file]``: overwrite the contents of [file] (starting at line 0) with the standard input. (Use ``ctrl+d`` to end input)\n",
    "\n",
    "``cat >> [file]``: append standard input to [file]'s existing contents\n",
    "\n",
    "``more [file]``: display the contents of [file]\n",
    "\n",
    "``head [file]``: display first 10 lines of [file]\n",
    "\n",
    "``tail [file]``: display last 10 lines of [file]"
   ]
  },
  {
   "cell_type": "markdown",
   "metadata": {
    "slideshow": {
     "slide_type": "subslide"
    }
   },
   "source": [
    "# Let's see these commands in action!\n",
    "\n",
    "1. Create a new directory named ``foo_dir``\n",
    "2. Change directories to ``foo_dir``\n",
    "3. Write \"Hello, world\" to a text file from the command line\n",
    "4. Display the contents of the text file\n",
    "5. Make a copy of the text file\n",
    "6. Place the copy in a new sub-directory, ``foo_sub_dir``"
   ]
  },
  {
   "cell_type": "markdown",
   "metadata": {
    "slideshow": {
     "slide_type": "subslide"
    }
   },
   "source": [
    "# Scripting\n",
    "\n",
    "Unix commands can also be combined in \"shell scripts\" that can automate repetitive tasks."
   ]
  },
  {
   "cell_type": "code",
   "execution_count": null,
   "metadata": {
    "slideshow": {
     "slide_type": "fragment"
    }
   },
   "outputs": [],
   "source": [
    "# A simple bash script:\n",
    "for i in {1..5}\n",
    "do\n",
    "        touch foo$i.txt\n",
    "        echo \"Hello, world. Sincerely, Foo File #$i\" > foo$i.txt\n",
    "done"
   ]
  },
  {
   "cell_type": "markdown",
   "metadata": {
    "slideshow": {
     "slide_type": "slide"
    }
   },
   "source": [
    "# Git\n",
    "\n",
    "## Version control's de facto solution\n",
    "\n",
    "- ``git`` is a now-ubiquitous versioning system that first released in the mid 00's when it was developed for work on the Linux kernel (a Unix-like OS)\n",
    "\n",
    "- ``git`` is an essential tool for programming, especially for distributed development across teams of all sizes\n",
    "\n",
    "- ``git`` is a piece of software that keeps your own software development organized, efficient, and safe from overwrites/data loss"
   ]
  },
  {
   "cell_type": "markdown",
   "metadata": {
    "slideshow": {
     "slide_type": "subslide"
    }
   },
   "source": [
    "![title](images/git_xkcd.png)"
   ]
  },
  {
   "cell_type": "markdown",
   "metadata": {
    "slideshow": {
     "slide_type": "subslide"
    }
   },
   "source": [
    "# Git\n",
    "\n",
    "Like for any piece of software, the first step is to check whether or not ``git`` is installed on your machine (Mac's should already have it out of the box)\n",
    "\n",
    "To check, in ``bash`` I'll ask for the version of ``git`` installed on my machine. "
   ]
  },
  {
   "cell_type": "code",
   "execution_count": 8,
   "metadata": {
    "scrolled": true,
    "slideshow": {
     "slide_type": "fragment"
    }
   },
   "outputs": [
    {
     "name": "stdout",
     "output_type": "stream",
     "text": [
      "git version 2.24.3 (Apple Git-128)\n"
     ]
    }
   ],
   "source": [
    "%%bash\n",
    "git --version"
   ]
  },
  {
   "cell_type": "markdown",
   "metadata": {
    "slideshow": {
     "slide_type": "fragment"
    }
   },
   "source": [
    "If your machine doesn't already have ``git``, follow the instructions [here](https://git-scm.com/book/en/v2/Getting-Started-Installing-Git) to install it."
   ]
  },
  {
   "cell_type": "markdown",
   "metadata": {
    "slideshow": {
     "slide_type": "subslide"
    }
   },
   "source": [
    "# Git basics\n",
    "\n",
    "![title](images/git_diagram_1.png)\n",
    "\n",
    "Image: Milu Franz"
   ]
  },
  {
   "cell_type": "markdown",
   "metadata": {
    "slideshow": {
     "slide_type": "subslide"
    }
   },
   "source": [
    "# Git essentials\n",
    "\n",
    "``git init``: initialize the current working directory as a ``git`` \"repository\"\n",
    "\n",
    "``git add [file]``: stage [file] so it's added to the next ``git commit``\n",
    "\n",
    "&nbsp;&nbsp;&nbsp;&nbsp;Use ``git add .`` to add all new or edited files to the next ``commit``\n",
    "\n",
    "``git commit -m \"[A helpful commit message]``: create a new commit. Like saving at a checkpoint in a video game."
   ]
  },
  {
   "cell_type": "markdown",
   "metadata": {
    "slideshow": {
     "slide_type": "subslide"
    }
   },
   "source": [
    "# Git and GitHub\n",
    "\n",
    "GitHub is a webservice that hosts ``git`` repositories on remote servers. To make sure your hard work is safe even if something happens to your local copy, and so you and your collaborators can all work on the same projects together link your local ``git`` repo to GitHub by setting a ``remote``."
   ]
  },
  {
   "cell_type": "markdown",
   "metadata": {
    "slideshow": {
     "slide_type": "subslide"
    }
   },
   "source": [
    "# Git and GitHub\n",
    "\n",
    "## A worked example\n",
    "\n",
    "We just did some file writing while exploring Unix commands, now let's make our working directory a ``git`` repository and connect it to GitHub."
   ]
  },
  {
   "cell_type": "markdown",
   "metadata": {
    "slideshow": {
     "slide_type": "fragment"
    }
   },
   "source": [
    "# More Git essentials\n",
    "\n",
    "``git status``: use this command all the time! Gives you a helpful report of the current git-goings-on for your repo\n",
    "\n",
    "``git push [head] [branch]``: push a staged commit to GitHub\n",
    "\n",
    "``git pull``: download and integrate remote changes to your repository (e.g. updates from one of your collaborators)"
   ]
  },
  {
   "cell_type": "code",
   "execution_count": null,
   "metadata": {},
   "outputs": [],
   "source": []
  }
 ],
 "metadata": {
  "celltoolbar": "Slideshow",
  "kernelspec": {
   "display_name": "Python 3 (ipykernel)",
   "language": "python",
   "name": "python3"
  },
  "language_info": {
   "codemirror_mode": {
    "name": "ipython",
    "version": 3
   },
   "file_extension": ".py",
   "mimetype": "text/x-python",
   "name": "python",
   "nbconvert_exporter": "python",
   "pygments_lexer": "ipython3",
   "version": "3.9.7"
  }
 },
 "nbformat": 4,
 "nbformat_minor": 4
}
