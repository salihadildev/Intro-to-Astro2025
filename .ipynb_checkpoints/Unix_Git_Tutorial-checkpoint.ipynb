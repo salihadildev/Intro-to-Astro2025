{
 "cells": [
  {
   "cell_type": "markdown",
   "metadata": {
    "slideshow": {
     "slide_type": "slide"
    }
   },
   "source": [
    "<div style=\"text-align:center;\"/>\n",
    "\n",
    "# `Unix` and `Git`\n",
    "\n",
    "## *Intro-2-Astro 2025*\n",
    "\n",
    "### [Chetan Chawla](https://sites.google.com/view/chetanchawla) (Tech Associate Consultant @ZS, Ex-Astrophysics Researcher @ASIAA) \n",
    "#### Referenced from [2021 Slides](https://github.com/howardisaacson/Intro-to-Astro-2021/blob/master/Week1_Intro_unix_python/unix_git_slides.ipynb) by: [Joey Murphy (UCSC)](https://murphyjm.github.io/) and from [Unix Software Carpentry](https://swcarpentry.github.io/shell-novice/)\n",
    "#### All images are either sourced from [Unix Software Carpentry](https://swcarpentry.github.io/shell-novice/) or are screenshots\n",
    "\n",
    "#### July 1st, 2025"
   ]
  },
  {
   "cell_type": "markdown",
   "metadata": {
    "slideshow": {
     "slide_type": "slide"
    }
   },
   "source": [
    "# What is Unix?\n",
    "\n",
    "- Unix is the first portable **operating system (OS)**\n",
    "- An OS facilitates the interface between hardware and software on your machine, and lets the user interact with the machine\n",
    "- It was written in 1971, entirely in the C programming language\n",
    "- It is extremely fast for repetitive tasks and is widely used for distributed applications\n",
    "- MacOS works on Unix. Linux is also a Unix-like alternative"
   ]
  },
  {
   "cell_type": "markdown",
   "metadata": {
    "slideshow": {
     "slide_type": "slide"
    }
   },
   "source": [
    "## What then is Unix Shell?\n",
    "\n",
    "- As Unix is an OS, the Unix shell is both a **command-line interface (CLI)** and a **scripting language**, which the users interact with\n",
    "- So, shell is a program where users can type commands (in a syntax)\n",
    "- BASH (Bourne Again SHell) is the most popular implementation of the Unix shell\n",
    "- We can combine these commands into a sequences or pipelines, called **scripts**, and accomplish larger tasks\n",
    "- Mac OS' `Terminal` provides a command-line interface for passing commands to Unix\n",
    "    - Linux also has a Unix-like implementation\n",
    "    - For windows users, you can either install a [Git Shell](https://carpentries.github.io/workshop-template/#shell), or install a [Linux Subsystem for Windows (WSL)](https://docs.microsoft.com/en-us/windows/wsl/install)\n",
    "    - In this Jupyter notebook, we can also use the magic command `%%bash` to make a Unix-like cell"
   ]
  },
  {
   "cell_type": "markdown",
   "metadata": {
    "slideshow": {
     "slide_type": "slide"
    }
   },
   "source": [
    "## Interacting with the Unix Shell\n",
    "\n",
    "- When the shell is first opened, you are presented with a prompt ( in most cases), indicating that the shell is waiting for input\n",
    "- We write a command and press enter to execute it\n",
    "- ```pwd``` is the command used to tell us the present working directory (folder), i.e., where the shell is currently operating in the file system\n",
    "\n",
    "\n",
    "<div style=\"text-align:center;\"/>\n",
    "<img src=\"https://www.notion.so/image/https%3A%2F%2Fs3-us-west-2.amazonaws.com%2Fsecure.notion-static.com%2F9ce4b297-b89b-400d-ba39-f2326e8e710c%2Fpwd.gif?table=block&id=093dd9f5-3d74-4509-9d9e-5113e6bc3a1a&spaceId=715086e5-0cab-4c71-8ba3-ab10dab963b1&userId=504fdaf1-f727-404a-b282-02b3266b8a31&cache=v2\" alt=\"pwd\" style=\"width: 70%; float:center;\"/> \n"
   ]
  },
  {
   "cell_type": "markdown",
   "metadata": {
    "slideshow": {
     "slide_type": "subslide"
    }
   },
   "source": [
    "## Navigating the file system\n",
    "\n",
    "- Unix (and linux) file system has a tree like filesystem, in which, `/` directory represents the root of the file system\n",
    "- It treats files and direcetories likewise in the file system\n",
    "- The root directory has a bunch of directories and files, which we can navigate to using `/Users/nelle/` (for nelle directory) or `/Users/nelle/filename.txt` (for a file)\n",
    "- `~` represents the user's home directory. The terminal opens up at home directory by default\n",
    "\n",
    "\n",
    "<div style=\"text-align:center;\"/>\n",
    "<img src=\"https://swcarpentry.github.io/shell-novice/fig/home-directories.svg\" alt=\"pwd\" style=\"width: 30%; float:center;\"/> "
   ]
  },
  {
   "cell_type": "markdown",
   "metadata": {
    "slideshow": {
     "slide_type": "subslide"
    }
   },
   "source": [
    "## Working with directories using commands\n",
    "\n",
    "- We can move around our working directory by using the command `cd [path]` (change directory)\n",
    "- Let us first go to the home directory using `cd ~`\n",
    "- We can now check the present working directory to see if we are in the home directory"
   ]
  },
  {
   "cell_type": "code",
   "execution_count": 1,
   "metadata": {
    "slideshow": {
     "slide_type": "fragment"
    }
   },
   "outputs": [
    {
     "name": "stdout",
     "output_type": "stream",
     "text": [
      "/Users/chetanchawla\n"
     ]
    }
   ],
   "source": [
    "%%bash\n",
    "cd ~ # Move to the home directory\n",
    "pwd"
   ]
  },
  {
   "cell_type": "markdown",
   "metadata": {
    "slideshow": {
     "slide_type": "subslide"
    }
   },
   "source": [
    "- If we do not move to home, our current working directory should be the one where the notebook is placed\n",
    "- We can use the command ```ls``` to see contents of the current working directory we are in"
   ]
  },
  {
   "cell_type": "code",
   "execution_count": 2,
   "metadata": {
    "slideshow": {
     "slide_type": "fragment"
    }
   },
   "outputs": [
    {
     "name": "stdout",
     "output_type": "stream",
     "text": [
      "/Users/chetanchawla/Astrophysics/Mentoring/Intro2Astro2024/Intro-to-Astro2024/Week1_Unix_Python_Papers\n",
      "PaperWritingGuide.pdf\n",
      "Python Tutorial.ipynb\n",
      "Python and Jupyter Intro.html\n",
      "Python and Jupyter Intro.ipynb\n",
      "README.md\n",
      "Unix_Git_Tutorial.ipynb\n",
      "Unix_Git_Tutorial.slides.html\n",
      "data\n",
      "how_to_read_scientific_papers.md\n",
      "images\n",
      "notebook_names.txt\n"
     ]
    }
   ],
   "source": [
    "%%bash\n",
    "pwd\n",
    "ls # List the contents of the current directory"
   ]
  },
  {
   "cell_type": "markdown",
   "metadata": {
    "slideshow": {
     "slide_type": "subslide"
    }
   },
   "source": [
    "## Some more directory commands\n",
    "### Changing Directories: Relative paths\n",
    "- `cd ..`: to up one directory in the filesystem (the parent durectory of current directory)\n",
    "- `cd .`: change directory to the current directory (no action)\n",
    "- `cd /`: change directory to root\n",
    "- `cd ~` or `cd`: change directory to user's home directory\n",
    "- `cd -`: change directory to the last directory you were using\n",
    "- `cd <directory>`: change directory to the name of directory passed as an argument to the command\n",
    "\n",
    "### Changing Directories: Absolute paths\n",
    "- `cd /Users/chetanchawla/Astrophysics/`: Here, an absolute path to the directory is given"
   ]
  },
  {
   "cell_type": "markdown",
   "metadata": {
    "slideshow": {
     "slide_type": "subslide"
    }
   },
   "source": [
    "\n",
    "<div style=\"text-align:center;\"/>\n",
    "<img src=\"https://www.notion.so/image/https%3A%2F%2Fs3-us-west-2.amazonaws.com%2Fsecure.notion-static.com%2Fe5c6dde1-edc0-4e35-8b6a-a2aba2c0efec%2Fcd.gif?table=block&id=5d8f0b69-0d59-4bf6-9ada-73633b610078&spaceId=715086e5-0cab-4c71-8ba3-ab10dab963b1&userId=504fdaf1-f727-404a-b282-02b3266b8a31&cache=v2\" alt=\"pwd\" style=\"width: 80%; float:center;\"/> "
   ]
  },
  {
   "cell_type": "markdown",
   "metadata": {
    "slideshow": {
     "slide_type": "subslide"
    }
   },
   "source": [
    "## Listing Contents\n",
    "- Flags are options that we pass on for a command to behave in a particular way\n",
    "- Single-letter flags are passed using ```-``` while multi-letter flags are passed using `--`\n",
    "- We can look for complete documentations and the information about flags for each command by using the command `man command` (this opens up a manual in an editor. use :q to quit), or `command --help` (used in linux)\n",
    "- `ls -l`: lists the directories and files in current directory in a list format\n",
    "- `ls -t`: lists the directories and files in current directory sorted by the time they were created/modified\n",
    "- We can also combine these flags. `ls -ltrh`: lists the directories and files in current directory in a **l**ist format, sorted by **t**ime in **r**everse order, in a **h**uman readable format  "
   ]
  },
  {
   "cell_type": "markdown",
   "metadata": {
    "slideshow": {
     "slide_type": "subslide"
    }
   },
   "source": [
    "\n",
    "<div style=\"text-align:center;\"/>\n",
    "<img src=\"https://www.notion.so/image/https%3A%2F%2Fs3-us-west-2.amazonaws.com%2Fsecure.notion-static.com%2F3289a259-4261-49e9-834b-e0f2f311b32b%2FScreenshot_2022-06-12_at_10.01.51_PM.png?table=block&id=d2429749-9e83-48b2-b5ad-add09c55c994&spaceId=715086e5-0cab-4c71-8ba3-ab10dab963b1&width=2000&userId=504fdaf1-f727-404a-b282-02b3266b8a31&cache=v2\" alt=\"pwd\" style=\"width: 80%; float:center;\"/> "
   ]
  },
  {
   "cell_type": "markdown",
   "metadata": {
    "slideshow": {
     "slide_type": "subslide"
    }
   },
   "source": [
    "## Creating files and directories, and deleting them\n",
    "\n",
    "- `touch [file]`: creates [file]\n",
    "\n",
    "- `mkdir [directory]`: creates a new directory\n",
    "\n",
    "- `rm [file]`: delete [file]. We can also delete an empty directory using ```rm [empty-dir]```\n",
    "\n",
    "- `rm -r [dir]`: delete a directory and recursively delete all files/subdirectories within that directory. `-i` is used for requesting confirmation before deleting something. \n",
    "\n",
    "**Be careful with `rm`! Especially if you're thinking about using the `-f` (force) or `-r` (recursive) options. Make sure you use `-i` option to confirm before deleting. This is permanent and you may use your important files, or even your complete filesystem (including the os).** "
   ]
  },
  {
   "cell_type": "markdown",
   "metadata": {
    "slideshow": {
     "slide_type": "subslide"
    }
   },
   "source": [
    "- Similar to touch, nano and vim are text editors in Unix shell with more complex capabilities.\n",
    "\n",
    "<div style=\"text-align:center;\"/>\n",
    "<img src=\"https://swcarpentry.github.io/shell-novice/fig/nano-screenshot.png\" alt=\"pwd\" style=\"width: 80%; float:center;\"/> \n"
   ]
  },
  {
   "cell_type": "markdown",
   "metadata": {
    "slideshow": {
     "slide_type": "subslide"
    }
   },
   "source": [
    "## Copying and moving\n",
    "- `cp [source file] [target file]`: make a copy of [source file] named [target file] in the working directory\n",
    "\n",
    "- `mv [file] [destination]`: move [file] from the working directory to the location specified by the [destination] path. Also used to rename files\n",
    "\n",
    "- `cp -r [directory1] [directory2]`: To make a copy/backup of a directory and all its contents recursively\n",
    "\n",
    "- `mv -r [directory1] [directory2]`: To move a directory and all its contents recursively to another directory"
   ]
  },
  {
   "cell_type": "markdown",
   "metadata": {
    "slideshow": {
     "slide_type": "fragment"
    }
   },
   "source": [
    "## Printing to the screen\n",
    "- `echo \"Message\"` is used to print things to the terminal\n",
    "- `echo $variable` is used to print the value of a variable to the terminal"
   ]
  },
  {
   "cell_type": "markdown",
   "metadata": {
    "slideshow": {
     "slide_type": "subslide"
    }
   },
   "source": [
    "## Working with files\n",
    "\n",
    "- `cat [file]`: print the content of the file on the terminal\n",
    "- `head -n 10 [file]`: display first 10 lines of [file]\n",
    "- `tail -n 5 [file]`: display last 5 lines of [file]\n",
    "\n",
    "## Operators\n",
    "They are used to combine the outputs of different commands together to create more powerful commands.\n",
    "\n",
    "- `cat > [file]`: overwrite the contents of [file] (starting at line 0) with the standard input from keyboard. (Use ctrl+d to end input)\n",
    "- `cat >> [file]`: append standard input to [file]'s existing contents\n",
    "- Here `>` is the overwrite operator and `>>` is the append operator. Similarly, `|` is the pipe operator which passes the output of one command as the input to another command."
   ]
  },
  {
   "cell_type": "markdown",
   "metadata": {
    "slideshow": {
     "slide_type": "subslide"
    }
   },
   "source": [
    "## Inspecting files\n",
    "- `grep [string] [file]`: search for and return all lines containing [string] in [file]\n",
    "\n",
    "- `ls | grep foo`: look for and return all file or sub-directory names in the working directory that contain \"foo\"\n",
    "\n",
    "- `find . -name *.txt`: Command to find files and directories by their names in the current directory (.). The argument passed to the name flag, `*.txt` implies that the command will find all files that ends in the extension _.txt_. \n",
    "\n",
    "- `*` is a wildcard, which matches zero or more characters. `?` is also a wildcard, but it matches exactly one character. For example \n",
    "    - `a*` means all names starting with letter a.\n",
    "    - `*a` means all names ending with a\n",
    "    - `*a*` means all names having the letter a\n",
    "    - `?a?` means a 3 letter word having a as the second word, and any two letters, one on each side of it"
   ]
  },
  {
   "cell_type": "markdown",
   "metadata": {
    "slideshow": {
     "slide_type": "subslide"
    }
   },
   "source": [
    "## Conclusion regarding commands: The general format\n",
    "\n",
    "<div style=\"text-align:center;\"/>\n",
    "<img src=\"https://swcarpentry.github.io/shell-novice/fig/shell_command_syntax.svg\" alt=\"pwd\" style=\"width: 60%; float:center;\"/> "
   ]
  },
  {
   "cell_type": "markdown",
   "metadata": {
    "slideshow": {
     "slide_type": "slide"
    }
   },
   "source": [
    "## Scripts\n",
    "\n",
    "- We can also write sequences of commands to do some complex tasks as scripts!\n",
    "- The following small script makes an empty file notebook_names.txt. It then finds all notebooks in the current directory (by finding extension .ipynb in the end), and prints their names. These printed names are saved in the notebook_names.txt file"
   ]
  },
  {
   "cell_type": "code",
   "execution_count": 3,
   "metadata": {
    "slideshow": {
     "slide_type": "fragment"
    }
   },
   "outputs": [],
   "source": [
    "%%bash\n",
    "echo > notebook_names.txt\n",
    "for nb in *.ipynb\n",
    "    do\n",
    "        echo $nb >> notebook_names.txt\n",
    "    done"
   ]
  },
  {
   "cell_type": "markdown",
   "metadata": {
    "slideshow": {
     "slide_type": "slide"
    }
   },
   "source": [
    "# Assignment 1\n",
    "- Create a new directory named foo_dir\n",
    "- Change directories to foo_dir\n",
    "- Write \"Hello, world\" to a text file\n",
    "- Display the contents of the text file\n",
    "- Make a copy of the text file\n",
    "- Place the copy in a new sub-directory, foo_sub_dir"
   ]
  },
  {
   "cell_type": "code",
   "execution_count": null,
   "metadata": {
    "slideshow": {
     "slide_type": "fragment"
    }
   },
   "outputs": [],
   "source": [
    "##Write your script here\n",
    "%%bash"
   ]
  },
  {
   "cell_type": "markdown",
   "metadata": {
    "slideshow": {
     "slide_type": "subslide"
    }
   },
   "source": [
    "# Assignment #2\n",
    "Complete the [Unix Workbench](https://seankross.com/the-unix-workbench/) and  [Software Carpentary Course for Unix](https://swcarpentry.github.io/shell-novice/)"
   ]
  },
  {
   "cell_type": "code",
   "execution_count": null,
   "metadata": {},
   "outputs": [],
   "source": []
  }
 ],
 "metadata": {
  "celltoolbar": "Slideshow",
  "kernelspec": {
   "display_name": "Python 3 (ipykernel)",
   "language": "python",
   "name": "python3"
  },
  "language_info": {
   "codemirror_mode": {
    "name": "ipython",
    "version": 3
   },
   "file_extension": ".py",
   "mimetype": "text/x-python",
   "name": "python",
   "nbconvert_exporter": "python",
   "pygments_lexer": "ipython3",
   "version": "3.9.7"
  }
 },
 "nbformat": 4,
 "nbformat_minor": 4
}
